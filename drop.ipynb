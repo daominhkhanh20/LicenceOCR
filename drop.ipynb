{
 "cells": [
  {
   "cell_type": "code",
   "execution_count": 22,
   "metadata": {},
   "outputs": [],
   "source": [
    "import cv2\n",
    "import pandas as pd\n",
    "import os\n",
    "import numpy as np\n",
    "from matplotlib import pyplot as plt"
   ]
  },
  {
   "cell_type": "code",
   "execution_count": 5,
   "metadata": {},
   "outputs": [],
   "source": [
    "df = []\n",
    "for file in os.listdir('ocr/csv'):\n",
    "    df.append(pd.read_csv(f'ocr/csv/{file}'))\n",
    "\n",
    "df = pd.concat(df, axis=0)"
   ]
  },
  {
   "cell_type": "code",
   "execution_count": 6,
   "metadata": {},
   "outputs": [
    {
     "name": "stdout",
     "output_type": "stream",
     "text": [
      "(1997, 2)\n"
     ]
    }
   ],
   "source": [
    "df = df[~df['label'].isnull()].reset_index(drop=True)\n",
    "print(df.shape)"
   ]
  },
  {
   "cell_type": "code",
   "execution_count": null,
   "metadata": {},
   "outputs": [],
   "source": []
  },
  {
   "cell_type": "code",
   "execution_count": 7,
   "metadata": {},
   "outputs": [],
   "source": [
    "path_image = '/home/dmk/Documents/LicenceOCR/darknet/data/images'\n",
    "path_label = '/home/dmk/Documents/LicenceOCR/darknet/data/labels'\n",
    "list_file_label = os.listdir(path_label)"
   ]
  },
  {
   "cell_type": "code",
   "execution_count": 8,
   "metadata": {},
   "outputs": [],
   "source": [
    "def split_df(df, ratio: float = 0.9):\n",
    "    n_train = int(len(df) * ratio)\n",
    "    return df[:n_train], df[n_train:]\n",
    "    \n",
    "\n",
    "def read_coordinate(file_label):\n",
    "    with open(f\"{path_label}/{file_label}.txt\", 'r') as file:\n",
    "        data = file.readlines()\n",
    "    coordinate = data[0].strip().split(' ')[1:5]\n",
    "    return [float(value) for value in coordinate]\n",
    "    \n",
    "def crop_image(file_image):\n",
    "    image = cv2.imread(f\"{path_image}/{file_image}\")\n",
    "    file_name, extension = os.path.splitext(file_image)\n",
    "    height, width, _ = image.shape\n",
    "    coordinate = read_coordinate(file_name)\n",
    "    x, y, w, h = int(width * coordinate[0]), int(height  * coordinate[1]), int(width * coordinate[2]), int(height * coordinate[3])\n",
    "    image = image[int(y - h/2): int(y + h/2):, int(x - w/2): int(x + w/2), :]\n",
    "    cv2.imwrite(f'ocr/images/{file_image}', image)\n"
   ]
  },
  {
   "cell_type": "code",
   "execution_count": 9,
   "metadata": {},
   "outputs": [],
   "source": [
    "df['is_car'] = df['file_name'].apply(lambda x: 'car' in x)"
   ]
  },
  {
   "cell_type": "code",
   "execution_count": 10,
   "metadata": {},
   "outputs": [],
   "source": [
    "df_moto = df[df['is_car'] == False].reset_index()\n",
    "df_car = df[df['is_car'] == True].reset_index()\n",
    "df_moto_train, df_moto_test = split_df(df_moto)\n",
    "df_car_train, df_car_test = split_df(df_car)\n",
    "df_train = pd.concat((df_moto_train, df_car_train), axis=0)\n",
    "df_val = pd.concat((df_moto_test, df_car_test))"
   ]
  },
  {
   "cell_type": "code",
   "execution_count": 11,
   "metadata": {},
   "outputs": [],
   "source": [
    "def save_file(df, mode: str = 'train'):\n",
    "    with open(f'ocr/{mode}.txt', 'w') as file:\n",
    "        for idx, row in df.iterrows():\n",
    "            image = row['file_name']\n",
    "            label = row['label']\n",
    "            crop_image(image)\n",
    "            file.write(f\"images/{image}\" + '\\t' + label + '\\n')"
   ]
  },
  {
   "cell_type": "code",
   "execution_count": 12,
   "metadata": {},
   "outputs": [],
   "source": [
    "save_file(df_train)"
   ]
  },
  {
   "cell_type": "code",
   "execution_count": 13,
   "metadata": {},
   "outputs": [],
   "source": [
    "save_file(df_val, mode='val')"
   ]
  },
  {
   "cell_type": "code",
   "execution_count": 14,
   "metadata": {},
   "outputs": [
    {
     "data": {
      "text/plain": [
       "True"
      ]
     },
     "execution_count": 14,
     "metadata": {},
     "output_type": "execute_result"
    }
   ],
   "source": [
    "image = cv2.imread('darknet/data/images/car_AEONTP_6A00530_checkin_2020-1-13-16-16i7h_Z3Ua0Y.jpg')\n",
    "height, width, _ = image.shape\n",
    "x, y, w, h = int(width * 0.503000), int(height * 0.653291), int(width * 0.646000), int(height*0.115570)\n",
    "cv2.imwrite('temp.png', image[int(y - h/2): int(y + h/2),int(x - w/2): int(x + w/2) ])"
   ]
  },
  {
   "cell_type": "code",
   "execution_count": 18,
   "metadata": {},
   "outputs": [
    {
     "ename": "SyntaxError",
     "evalue": "invalid syntax (1829649344.py, line 43)",
     "output_type": "error",
     "traceback": [
      "\u001b[0;36m  File \u001b[0;32m\"/tmp/ipykernel_101407/1829649344.py\"\u001b[0;36m, line \u001b[0;32m43\u001b[0m\n\u001b[0;31m    random_order=True)\u001b[0m\n\u001b[0m                     ^\u001b[0m\n\u001b[0;31mSyntaxError\u001b[0m\u001b[0;31m:\u001b[0m invalid syntax\n"
     ]
    }
   ],
   "source": [
    "from PIL import Image\n",
    "import numpy as np\n",
    "\n",
    "from imgaug import augmenters as iaa\n",
    "import imgaug as ia\n",
    "\n",
    "class ImgAugTransform:\n",
    "  def __init__(self):\n",
    "    sometimes = lambda aug: iaa.Sometimes(0.3, aug)\n",
    "\n",
    "    self.aug = iaa.Sequential(iaa.SomeOf((1, 5), \n",
    "        [\n",
    "        # blur\n",
    "\n",
    "        sometimes(iaa.OneOf([iaa.GaussianBlur(sigma=(0, 1.0)),\n",
    "                            iaa.MotionBlur(k=3)])),\n",
    "        \n",
    "        # color\n",
    "        sometimes(iaa.AddToHueAndSaturation(value=(-10, 10), per_channel=True)),\n",
    "        sometimes(iaa.SigmoidContrast(gain=(3, 10), cutoff=(0.4, 0.6), per_channel=True)),\n",
    "        sometimes(iaa.Invert(0.25, per_channel=0.5)),\n",
    "        sometimes(iaa.Solarize(0.5, threshold=(32, 128))),\n",
    "        sometimes(iaa.Dropout2d(p=0.5)),\n",
    "        sometimes(iaa.Multiply((0.5, 1.5), per_channel=0.5)),\n",
    "        sometimes(iaa.Add((-40, 40), per_channel=0.5)),\n",
    "\n",
    "        sometimes(iaa.JpegCompression(compression=(5, 80))),\n",
    "        \n",
    "        # distort\n",
    "        sometimes(iaa.Crop(percent=(0.01, 0.05), sample_independently=True)),\n",
    "        sometimes(iaa.PerspectiveTransform(scale=(0.01, 0.01))),\n",
    "        sometimes(iaa.Affine(scale=(0.7, 1.3), translate_percent=(-0.1, 0.1), \n",
    "                           rotate=(-40, 40),\n",
    "                            order=[0, 1], cval=(0, 255), \n",
    "                            mode=ia.ALL)),\n",
    "        sometimes(iaa.PiecewiseAffine(scale=(0.01, 0.01))),\n",
    "        sometimes(iaa.OneOf([iaa.Dropout(p=(0, 0.1)),\n",
    "                            iaa.CoarseDropout(p=(0, 0.1), size_percent=(0.02, 0.25))])),\n",
    "\n",
    "    ],\n",
    "        random_order=True),\n",
    "    random_order=True\n",
    "    )\n",
    "      \n",
    "  def __call__(self, img):\n",
    "    img = np.array(img)\n",
    "    img = self.aug.augment_image(img)\n",
    "    img = Image.fromarray(img)\n",
    "    return img\n"
   ]
  },
  {
   "cell_type": "code",
   "execution_count": 26,
   "metadata": {},
   "outputs": [],
   "source": [
    "aug = iaa.SomeOf(2, [\n",
    "    iaa.Affine(rotate=45),\n",
    "    iaa.Sharpen(alpha=0.5)\n",
    "])"
   ]
  },
  {
   "cell_type": "code",
   "execution_count": null,
   "metadata": {},
   "outputs": [],
   "source": [
    "transform = ImgAugTransform()"
   ]
  },
  {
   "cell_type": "code",
   "execution_count": 1,
   "metadata": {},
   "outputs": [
    {
     "ename": "NameError",
     "evalue": "name 'torch' is not defined",
     "output_type": "error",
     "traceback": [
      "\u001b[0;31m---------------------------------------------------------------------------\u001b[0m",
      "\u001b[0;31mNameError\u001b[0m                                 Traceback (most recent call last)",
      "\u001b[0;32m/tmp/ipykernel_119604/3987968340.py\u001b[0m in \u001b[0;36m<module>\u001b[0;34m\u001b[0m\n\u001b[0;32m----> 1\u001b[0;31m \u001b[0mtorch\u001b[0m\u001b[0;34m.\u001b[0m\u001b[0m__version__\u001b[0m\u001b[0;34m\u001b[0m\u001b[0;34m\u001b[0m\u001b[0m\n\u001b[0m",
      "\u001b[0;31mNameError\u001b[0m: name 'torch' is not defined"
     ]
    }
   ],
   "source": [
    "torch.__version__"
   ]
  },
  {
   "cell_type": "code",
   "execution_count": 14,
   "metadata": {},
   "outputs": [],
   "source": [
    "from pytorchyolo import models, detect\n",
    "from matplotlib import pyplot as plt\n",
    "import torch\n",
    "import cv2\n",
    "from PIL import Image\n",
    "import numpy as np"
   ]
  },
  {
   "cell_type": "code",
   "execution_count": 5,
   "metadata": {},
   "outputs": [],
   "source": [
    "device = torch.device('cuda' if torch.cuda.is_available() else \"cpu\")\n",
    "model = models.load_model('darknet/cfg/yolov3-tiny.cfg', 'darknet/backup/yolov3-tiny_2000.weights').to(device)\n"
   ]
  },
  {
   "cell_type": "code",
   "execution_count": 20,
   "metadata": {},
   "outputs": [
    {
     "name": "stdout",
     "output_type": "stream",
     "text": [
      "183 80 276 172\n"
     ]
    },
    {
     "data": {
      "text/plain": [
       "<matplotlib.image.AxesImage at 0x7f8648b00150>"
      ]
     },
     "execution_count": 20,
     "metadata": {},
     "output_type": "execute_result"
    },
    {
     "data": {
      "image/png": "[encoded data removed]",
      "text/plain": [
       "<Figure size 640x480 with 1 Axes>"
      ]
     },
     "metadata": {},
     "output_type": "display_data"
    }
   ],
   "source": [
    "image = cv2.imread('darknet/data/images/moto_0153_02530_b.jpg')\n",
    "boxes= detect.detect_image(model, image)\n",
    "x,y,x1,y1 = int(boxes[0][0]), int(boxes[0][1]), int(boxes[0][2]), int(boxes[0][3])\n",
    "numpy_image = image[y:y1, x:x1,:]\n",
    "print(x,y, x1, y1)\n",
    "imgage_ocr = Image.fromarray(np.uint8(numpy_image)).convert('RGB')\n",
    "plt.imshow(imgage_ocr)"
   ]
  },
  {
   "cell_type": "code",
   "execution_count": 10,
   "metadata": {},
   "outputs": [
    {
     "data": {
      "text/plain": [
       "array([183.50214  ,  80.486206 , 276.14188  , 172.43459  ,   0.9931244],\n",
       "      dtype=float32)"
      ]
     },
     "execution_count": 10,
     "metadata": {},
     "output_type": "execute_result"
    }
   ],
   "source": [
    "boxes[0][:5]"
   ]
  },
  {
   "cell_type": "code",
   "execution_count": null,
   "metadata": {},
   "outputs": [],
   "source": []
  }
 ],
 "metadata": {
  "kernelspec": {
   "display_name": "Python 3.7.13 ('pytorch')",
   "language": "python",
   "name": "python3"
  },
  "language_info": {
   "codemirror_mode": {
    "name": "ipython",
    "version": 3
   },
   "file_extension": ".py",
   "mimetype": "text/x-python",
   "name": "python",
   "nbconvert_exporter": "python",
   "pygments_lexer": "ipython3",
   "version": "3.7.13"
  },
  "orig_nbformat": 4,
  "vscode": {
   "interpreter": {
    "hash": "603ccaaf701cd42fc5b7f5de0e5a73b5f0d1d2bf4bdc286e245fc48966855f42"
   }
  }
 },
 "nbformat": 4,
 "nbformat_minor": 2
}
