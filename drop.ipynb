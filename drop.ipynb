{
 "cells": [
  {
   "cell_type": "code",
   "execution_count": 44,
   "metadata": {},
   "outputs": [],
   "source": [
    "import cv2\n",
    "import pandas as pd\n",
    "import os\n",
    "from matplotlib import pyplot as plt"
   ]
  },
  {
   "cell_type": "code",
   "execution_count": 32,
   "metadata": {},
   "outputs": [],
   "source": [
    "df = []\n",
    "for file in os.listdir('ocr/csv'):\n",
    "    df.append(pd.read_csv(f'ocr/csv/{file}'))\n",
    "\n",
    "df = pd.concat(df, axis=0)"
   ]
  },
  {
   "cell_type": "code",
   "execution_count": 33,
   "metadata": {},
   "outputs": [
    {
     "name": "stdout",
     "output_type": "stream",
     "text": [
      "(1997, 2)\n"
     ]
    }
   ],
   "source": [
    "df = df[~df['label'].isnull()].reset_index(drop=True)\n",
    "print(df.shape)"
   ]
  },
  {
   "cell_type": "code",
   "execution_count": null,
   "metadata": {},
   "outputs": [],
   "source": []
  },
  {
   "cell_type": "code",
   "execution_count": 34,
   "metadata": {},
   "outputs": [],
   "source": [
    "path_image = '/home/dmk/Documents/LicenceOCR/darknet/data/images'\n",
    "path_label = '/home/dmk/Documents/LicenceOCR/darknet/data/labels'\n",
    "list_file_label = os.listdir(path_label)"
   ]
  },
  {
   "cell_type": "code",
   "execution_count": 53,
   "metadata": {},
   "outputs": [],
   "source": [
    "def split_df(df, ratio: float = 0.9):\n",
    "    n_train = int(len(df) * ratio)\n",
    "    return df[:n_train], df[n_train:]\n",
    "    \n",
    "\n",
    "def read_coordinate(file_label):\n",
    "    with open(f\"{path_label}/{file_label}.txt\", 'r') as file:\n",
    "        data = file.readlines()\n",
    "    coordinate = data[0].strip().split(' ')[1:5]\n",
    "    return [float(value) for value in coordinate]\n",
    "    \n",
    "def crop_image(file_image):\n",
    "    image = cv2.imread(f\"{path_image}/{file_image}\")\n",
    "    file_name, extension = os.path.splitext(file_image)\n",
    "    height, width, _ = image.shape\n",
    "    coordinate = read_coordinate(file_name)\n",
    "    x, y, w, h = int(width * coordinate[0]), int(height  * coordinate[1]), int(width * coordinate[2]), int(height * coordinate[3])\n",
    "    image = image[int(y - h/2): int(y + h/2):, int(x - w/2): int(x + w/2), :]\n",
    "    cv2.imwrite(f'ocr/images/{file_image}', image)\n"
   ]
  },
  {
   "cell_type": "code",
   "execution_count": 49,
   "metadata": {},
   "outputs": [],
   "source": [
    "df['is_car'] = df['file_name'].apply(lambda x: 'car' in x)"
   ]
  },
  {
   "cell_type": "code",
   "execution_count": 50,
   "metadata": {},
   "outputs": [],
   "source": [
    "df_moto = df[df['is_car'] == False].reset_index()\n",
    "df_car = df[df['is_car'] == True].reset_index()\n",
    "df_moto_train, df_moto_test = split_df(df_moto)\n",
    "df_car_train, df_car_test = split_df(df_car)\n",
    "df_train = pd.concat((df_moto_train, df_car_train), axis=0)\n",
    "df_val = pd.concat((df_moto_test, df_car_test))"
   ]
  },
  {
   "cell_type": "code",
   "execution_count": 54,
   "metadata": {},
   "outputs": [],
   "source": [
    "def save_file(df, mode: str = 'train'):\n",
    "    with open(f'ocr/{mode}.txt', 'w') as file:\n",
    "        for idx, row in df.iterrows():\n",
    "            image = row['file_name']\n",
    "            label = row['label']\n",
    "            crop_image(image)\n",
    "            file.write(f\"ocr/images/{image}\" + '\\t' + label + '\\n')"
   ]
  },
  {
   "cell_type": "code",
   "execution_count": 55,
   "metadata": {},
   "outputs": [],
   "source": [
    "save_file(df_train)"
   ]
  },
  {
   "cell_type": "code",
   "execution_count": 57,
   "metadata": {},
   "outputs": [],
   "source": [
    "save_file(df_val, mode='val')"
   ]
  },
  {
   "cell_type": "code",
   "execution_count": 45,
   "metadata": {},
   "outputs": [
    {
     "data": {
      "text/plain": [
       "True"
      ]
     },
     "execution_count": 45,
     "metadata": {},
     "output_type": "execute_result"
    }
   ],
   "source": [
    "image = cv2.imread('darknet/data/images/car_AEONTP_6A00530_checkin_2020-1-13-16-16i7h_Z3Ua0Y.jpg')\n",
    "height, width, _ = image.shape\n",
    "x, y, w, h = int(width * 0.503000), int(height * 0.653291), int(width * 0.646000), int(height*0.115570)\n",
    "cv2.imwrite('temp.png', image[int(y - h/2): int(y + h/2),int(x - w/2): int(x + w/2) ])"
   ]
  },
  {
   "cell_type": "code",
   "execution_count": null,
   "metadata": {},
   "outputs": [],
   "source": []
  },
  {
   "cell_type": "code",
   "execution_count": null,
   "metadata": {},
   "outputs": [],
   "source": []
  }
 ],
 "metadata": {
  "kernelspec": {
   "display_name": "Python 3.7.13 ('pytorch')",
   "language": "python",
   "name": "python3"
  },
  "language_info": {
   "codemirror_mode": {
    "name": "ipython",
    "version": 3
   },
   "file_extension": ".py",
   "mimetype": "text/x-python",
   "name": "python",
   "nbconvert_exporter": "python",
   "pygments_lexer": "ipython3",
   "version": "3.7.13"
  },
  "orig_nbformat": 4,
  "vscode": {
   "interpreter": {
    "hash": "603ccaaf701cd42fc5b7f5de0e5a73b5f0d1d2bf4bdc286e245fc48966855f42"
   }
  }
 },
 "nbformat": 4,
 "nbformat_minor": 2
}
